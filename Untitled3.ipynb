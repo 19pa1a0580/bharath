{
  "nbformat": 4,
  "nbformat_minor": 0,
  "metadata": {
    "colab": {
      "name": "Untitled3.ipynb",
      "provenance": [],
      "authorship_tag": "ABX9TyM82JOfbT6n3v8/+V4m4XjL",
      "include_colab_link": true
    },
    "kernelspec": {
      "name": "python3",
      "display_name": "Python 3"
    }
  },
  "cells": [
    {
      "cell_type": "markdown",
      "metadata": {
        "id": "view-in-github",
        "colab_type": "text"
      },
      "source": [
        "<a href=\"https://colab.research.google.com/github/19pa1a0580/bharath/blob/master/Untitled3.ipynb\" target=\"_parent\"><img src=\"https://colab.research.google.com/assets/colab-badge.svg\" alt=\"Open In Colab\"/></a>"
      ]
    },
    {
      "cell_type": "code",
      "metadata": {
        "id": "NoCmRS6qzETH",
        "colab_type": "code",
        "colab": {
          "base_uri": "https://localhost:8080/",
          "height": 156
        },
        "outputId": "c26a5123-36a3-4eff-f9bd-e25fcd05949f"
      },
      "source": [
        "def bk(l):\n",
        "  l.sort()\n",
        "  k=l[-2]\n",
        "  return k\n",
        "num=int(input('enter the range'))\n",
        "srk=[]\n",
        "for i in range(num):\n",
        "  a=int(input('enter the number'))\n",
        "  srk.append(a)\n",
        "m=bk(srk)\n",
        "print('the second biggest number is',m)    "
      ],
      "execution_count": 4,
      "outputs": [
        {
          "output_type": "stream",
          "text": [
            "enter the range6\n",
            "enter the number5\n",
            "enter the number99\n",
            "enter the number24\n",
            "enter the number66\n",
            "enter the number83\n",
            "enter the number94\n",
            "the second biggest number is 94\n"
          ],
          "name": "stdout"
        }
      ]
    }
  ]
}