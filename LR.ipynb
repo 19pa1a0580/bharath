{
  "nbformat": 4,
  "nbformat_minor": 0,
  "metadata": {
    "kernelspec": {
      "display_name": "Python 3",
      "language": "python",
      "name": "python3"
    },
    "language_info": {
      "codemirror_mode": {
        "name": "ipython",
        "version": 3
      },
      "file_extension": ".py",
      "mimetype": "text/x-python",
      "name": "python",
      "nbconvert_exporter": "python",
      "pygments_lexer": "ipython3",
      "version": "3.5.2"
    },
    "colab": {
      "name": "LR.ipynb",
      "provenance": [],
      "collapsed_sections": [],
      "include_colab_link": true
    }
  },
  "cells": [
    {
      "cell_type": "markdown",
      "metadata": {
        "id": "view-in-github",
        "colab_type": "text"
      },
      "source": [
        "<a href=\"https://colab.research.google.com/github/19pa1a0580/bharath/blob/master/LR.ipynb\" target=\"_parent\"><img src=\"https://colab.research.google.com/assets/colab-badge.svg\" alt=\"Open In Colab\"/></a>"
      ]
    },
    {
      "cell_type": "code",
      "metadata": {
        "id": "M_PIgWSw5ujZ",
        "colab_type": "code",
        "colab": {}
      },
      "source": [
        "import numpy as np"
      ],
      "execution_count": 0,
      "outputs": []
    },
    {
      "cell_type": "markdown",
      "metadata": {
        "id": "ev5LHf4n5ujh",
        "colab_type": "text"
      },
      "source": [
        "### Generating data 'X' ranges between -10 to 10 \n",
        "### 'Y' is a linear combination of parameters as Y = ax+b+gaussian(0,epsilon)"
      ]
    },
    {
      "cell_type": "code",
      "metadata": {
        "id": "nHv5bu3f5uji",
        "colab_type": "code",
        "colab": {}
      },
      "source": [
        "Number_of_points = 1000\n",
        "X_data = np.linspace(-10,10,Number_of_points)\n",
        "W0_true = 11\n",
        "W1_true = 4.5\n",
        "Y_data = W1_true*X_data + W0_true + np.random.normal(0,0.5,Number_of_points)"
      ],
      "execution_count": 0,
      "outputs": []
    },
    {
      "cell_type": "markdown",
      "metadata": {
        "id": "vz0fl1jK5ujp",
        "colab_type": "text"
      },
      "source": [
        "### Split the data into training and testing set"
      ]
    },
    {
      "cell_type": "code",
      "metadata": {
        "id": "Ud_eBHu15ujq",
        "colab_type": "code",
        "colab": {}
      },
      "source": [
        "Number_of_training = int(Number_of_points*0.8)\n",
        "Number_of_testing = int(Number_of_points*0.2)\n",
        "index = np.random.permutation(Number_of_points) #A random permutation of 1..N is generated"
      ],
      "execution_count": 0,
      "outputs": []
    },
    {
      "cell_type": "code",
      "metadata": {
        "id": "twiKThLx5uju",
        "colab_type": "code",
        "colab": {}
      },
      "source": [
        "X_train = X_data[index[:Number_of_training]] \n",
        "Y_train = Y_data[index[:Number_of_training]]"
      ],
      "execution_count": 0,
      "outputs": []
    },
    {
      "cell_type": "code",
      "metadata": {
        "id": "gIntD37V5ujy",
        "colab_type": "code",
        "colab": {}
      },
      "source": [
        "X_test = X_data[index[Number_of_training:]]\n",
        "Y_test = Y_data[index[Number_of_training:]]"
      ],
      "execution_count": 0,
      "outputs": []
    },
    {
      "cell_type": "markdown",
      "metadata": {
        "id": "NaLqfb3c5uj2",
        "colab_type": "text"
      },
      "source": [
        "### Plot the data points"
      ]
    },
    {
      "cell_type": "code",
      "metadata": {
        "id": "8QLU1o_95uj5",
        "colab_type": "code",
        "colab": {}
      },
      "source": [
        "import matplotlib.pyplot as plt\n",
        "def plot(x,y,title):\n",
        "    fig,(ax1) = plt.subplots(1)\n",
        "    if title!='Loss':\n",
        "        ax1.plot(x,y,'x')\n",
        "    else:\n",
        "        ax1.plot(x,y)\n",
        "        \n",
        "    ax1.set_title(title, fontdict={'fontsize': 15, 'fontweight': 'medium'})\n",
        "    \n",
        "def plot_curve(x,y,W0,W1,title):\n",
        "    fig,(ax1) = plt.subplots(1)\n",
        "    #ax1.plot(x,y,'x')\n",
        "    ax1.set_title(title, fontdict={'fontsize': 15, 'fontweight': 'medium'})\n",
        "    y = W0 + W1*x\n",
        "    #ax1.plot(x,y,'o')\n",
        "    ax1.plot([X_data[0],X_data[-1]],[W0_true+W1_true*X_data[0],W0_true+W1_true*X_data[-1]],color = 'blue')\n",
        "    ax1.plot([X_data[0],X_data[-1]],[W0+W1*X_data[0],W0+W1*X_data[-1]],color = 'red')\n",
        "\n",
        "    \n",
        "plot(X_train[0:100],Y_train[0:100],'Few data points')"
      ],
      "execution_count": 0,
      "outputs": []
    },
    {
      "cell_type": "markdown",
      "metadata": {
        "id": "VYN9vYyO5uj-",
        "colab_type": "text"
      },
      "source": [
        "### Fitting a 1st order polynomial  of type y = W0 + W1*x. \n",
        "We want to learn the parameters W0 and W1. Lets initialize W0 and W1 with random values"
      ]
    },
    {
      "cell_type": "code",
      "metadata": {
        "id": "1DKMwZ_05ukA",
        "colab_type": "code",
        "colab": {}
      },
      "source": [
        "\n",
        "def compute_loss(x,y,W0,W1):\n",
        "    return np.sum(np.power(W0+W1*x - y,2))/(2.0*Number_of_training)\n",
        "    "
      ],
      "execution_count": 0,
      "outputs": []
    },
    {
      "cell_type": "markdown",
      "metadata": {
        "id": "PuC1X4ed5ukD",
        "colab_type": "text"
      },
      "source": [
        "### Learning the parameters of the model for some 'N' epochs, by minimizing squared-difference error\n",
        "$L(W) = \\frac{1}{2}\\Sigma_{n=1}^{N}(W^Tx_i - y_i)^2$                                                            "
      ]
    },
    {
      "cell_type": "code",
      "metadata": {
        "scrolled": false,
        "id": "eEFZu1DX5ukE",
        "colab_type": "code",
        "colab": {}
      },
      "source": [
        "Epochs = 1000\n",
        "learning_rate = 0.001\n",
        "W0 = np.random.normal(0,0.2,1)\n",
        "W1 = np.random.normal(0,0.2,1)\n",
        "Loss = []\n",
        "for epoch in range(Epochs):\n",
        "    dW0 = 0;dW1 = 0\n",
        "    for n in range(Number_of_training):\n",
        "        dW0 = dW0 + (W0 + W1*X_train[n] - Y_train[n])*1\n",
        "        dW1 = dW1 + (W0 + W1*X_train[n] - Y_train[n])*X_train[n]\n",
        "    W0 = W0 - learning_rate*dW0/Number_of_training\n",
        "    W1 = W1 - learning_rate*dW1/Number_of_training\n",
        "    Loss.append(compute_loss(X_train,Y_train,W0,W1))\n",
        "    if epoch%50==0:        \n",
        "        plot_curve(X_train,Y_train,W0,W1,'Training')\n",
        "        print(\"Epoch : \"+str(epoch)+\"\\\\\"+str(Epochs) + \" Train loss: \"+str(compute_loss(X_train,Y_train,W0,W1)))\n",
        "            #plot_curve(X_train,Y_train,W,'Training')\n",
        "\n",
        "\n",
        "plot(range(len(Loss)),Loss,'Loss')\n",
        "    \n",
        "        \n",
        "    \n",
        "        \n"
      ],
      "execution_count": 0,
      "outputs": []
    },
    {
      "cell_type": "markdown",
      "metadata": {
        "id": "NCKbbHdo5ukJ",
        "colab_type": "text"
      },
      "source": [
        ""
      ]
    },
    {
      "cell_type": "code",
      "metadata": {
        "id": "FriOGApc5ukK",
        "colab_type": "code",
        "colab": {}
      },
      "source": [
        ""
      ],
      "execution_count": 0,
      "outputs": []
    },
    {
      "cell_type": "code",
      "metadata": {
        "id": "v3UTfdDA5ukN",
        "colab_type": "code",
        "colab": {}
      },
      "source": [
        ""
      ],
      "execution_count": 0,
      "outputs": []
    }
  ]
}